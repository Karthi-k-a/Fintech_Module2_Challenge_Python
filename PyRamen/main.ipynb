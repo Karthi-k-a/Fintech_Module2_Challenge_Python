{
 "cells": [
  {
   "cell_type": "markdown",
   "id": "4b466f48-6a43-4769-896a-ea670fde568f",
   "metadata": {},
   "source": [
    "# Module 2 Challenge - PyRamen\n",
    "## Python script for analyzing the financial performance of a business"
   ]
  },
  {
   "cell_type": "markdown",
   "id": "f91cbd4e-1082-42cb-bca4-c045fd06ab5a",
   "metadata": {},
   "source": [
    "**Step 1: Import the pathlib and csv libraries**"
   ]
  },
  {
   "cell_type": "code",
   "execution_count": 52,
   "id": "45e92731-54de-44d2-aeea-a495c97c4cad",
   "metadata": {},
   "outputs": [],
   "source": [
    "# Initial imports\n",
    "from pathlib import Path\n",
    "import csv"
   ]
  },
  {
   "cell_type": "markdown",
   "id": "805ccc08-00b8-4948-9a02-e6fe010563ac",
   "metadata": {},
   "source": [
    "**Step 2: Read in `menu_data.csv` and set its contents to a separate list object**"
   ]
  },
  {
   "cell_type": "code",
   "execution_count": 53,
   "id": "4cd4cc49-429f-414c-aebb-f283801e7b56",
   "metadata": {},
   "outputs": [],
   "source": [
    "# Set the file path\n",
    "csvpath = Path(\"./Resources/menu_data.csv\")\n",
    "\n",
    "# Initialize Variables\n",
    "menu= []\n",
    "\n",
    "# Open the csv file as an object\n",
    "with open(csvpath, \"r\") as menufile:\n",
    "    \n",
    "    # Pass in the csv file to the csv.reader() function with ',' as the delmiter and return the csvreader object\n",
    "    menu_reader = csv.reader(menufile, delimiter=\",\")\n",
    "    \n",
    "    # Read the header\n",
    "    menu_header = next(menu_reader)\n",
    "    \n",
    "    # Read each row of data after the header and append every row to the `menu` list\n",
    "    for row in menu_reader:\n",
    "        menu.append(row)"
   ]
  },
  {
   "cell_type": "markdown",
   "id": "103e666c-5de9-49f3-8396-deb37c1fbe88",
   "metadata": {},
   "source": [
    "**Step 3: Read in `sales_data.csv` and set its contents to a separate list object**"
   ]
  },
  {
   "cell_type": "code",
   "execution_count": 54,
   "id": "f05f8bfc-bdef-428c-b82f-918459c6364e",
   "metadata": {},
   "outputs": [],
   "source": [
    "# Set the file path\n",
    "csvpath_2 = Path(\"./Resources/sales_data.csv\")\n",
    "\n",
    "# Initialize Variables\n",
    "sales= []\n",
    "\n",
    "# Open the csv file as an object\n",
    "with open(csvpath_2, \"r\") as salesfile:\n",
    "    \n",
    "    # Pass in the csv file to the csv.reader() function with ',' as the delmiter and return the csvreader object\n",
    "    sales_reader = csv.reader(salesfile, delimiter=\",\")\n",
    "    \n",
    "    # Read the header\n",
    "    sales_header = next(sales_reader)\n",
    "    \n",
    "    # Read each row of data after the header and append every row to the `sales` list\n",
    "    for row in sales_reader:\n",
    "        sales.append(row)"
   ]
  },
  {
   "cell_type": "markdown",
   "id": "f1ab035f-c940-4f9a-a069-fd68f840ebd2",
   "metadata": {},
   "source": [
    "**Step 4: Initialize an empty dictionary to hold the future aggregated per-product results**"
   ]
  },
  {
   "cell_type": "code",
   "execution_count": 55,
   "id": "6096fad5-01fd-4d30-a776-9d43d516c867",
   "metadata": {},
   "outputs": [
    {
     "name": "stdout",
     "output_type": "stream",
     "text": [
      "Total number of records in sales data: 74124\n"
     ]
    }
   ],
   "source": [
    "# Initialize dictionary\n",
    "report = {}\n",
    "\n",
    "# Initialize a row counter variable\n",
    "row_count = 0\n",
    "\n",
    "# loop through every row in 'sales' list     \n",
    "for row in sales:\n",
    "    \n",
    "    # Set the columns(quantity and menu_item) of 'sales_data' to their own variables\n",
    "    quantity = int(row[3])\n",
    "    menu_item = row[4]\n",
    "\n",
    "    # If `menu_item` is not included in the 'report, add it as a new entry with initialized metrics\n",
    "    # Naming convention allows the keys to be ordered in logical fashion- count, revenue, cost, profit\n",
    "    if menu_item not in report.keys():\n",
    "        report[menu_item] = {\n",
    "            \"01-count\": 0, \n",
    "            \"02-revenue\": 0, \n",
    "            \"03-cogs\": 0,\n",
    "            \"04-profit\": 0,}   \n",
    "\n",
    "    # Create a nested loop by looping through every row in `menu' list. \n",
    "    for row in menu:\n",
    "        \n",
    "        # Set the columns(item, price and cost) of 'menu_data' to their own variables\n",
    "        item = row[0]\n",
    "        price = float(row[3])\n",
    "        cost = int(row[4])\n",
    "        \n",
    "        # Calculate profit\n",
    "        profit = price - cost\n",
    "        \n",
    "        # Compare columns 'menu_item' in 'sales_data' and 'item' in 'menu_data', and begin tracking metrics for that item \n",
    "        if menu_item == item:\n",
    "            \n",
    "            # Print out matching menu data\n",
    "            # print(row)\n",
    "                        \n",
    "            # Cumulatively add the values to the corresponding metrics\n",
    "            report[menu_item][\"01-count\"] += int(quantity)\n",
    "            report[menu_item][\"02-revenue\"] += float(price * quantity)\n",
    "            report[menu_item][\"03-cogs\"] += float(cost * quantity)\n",
    "            report[menu_item][\"04-profit\"] += float(profit * quantity)\n",
    "        else:\n",
    "            # print(f\"{menu_item} does not equal {item}! NO MATCH!\")\n",
    "            ;\n",
    "            \n",
    "    # Increment the row counter by 1\n",
    "    row_count += 1\n",
    "        \n",
    "# Print total number of records in sales data\n",
    "print(f\"Total number of records in sales data: {row_count}\")"
   ]
  },
  {
   "cell_type": "markdown",
   "id": "c435855c-9b02-4bd0-b251-43e7f703a20b",
   "metadata": {},
   "source": [
    "**Step 5: Export a text file with the report**"
   ]
  },
  {
   "cell_type": "code",
   "execution_count": 56,
   "id": "4a55e45b-edaa-4c5e-88fb-ccdbfacfab12",
   "metadata": {},
   "outputs": [],
   "source": [
    "# Set output file name\n",
    "output_path = 'sales_report.txt'\n",
    "\n",
    "# Open the output path as a file object \n",
    "with open(output_path, \"w\") as txtfile:\n",
    "    \n",
    "    # Print the results to the output file \n",
    "    txtfile.write(\"Sales Report\")\n",
    "    txtfile.write(\"\\n---------------------\")\n",
    "    for key, value in report.items():\n",
    "        txtfile.write(f\"\\n{key} {value}\\n\")"
   ]
  }
 ],
 "metadata": {
  "kernelspec": {
   "display_name": "Python 3 (ipykernel)",
   "language": "python",
   "name": "python3"
  },
  "language_info": {
   "codemirror_mode": {
    "name": "ipython",
    "version": 3
   },
   "file_extension": ".py",
   "mimetype": "text/x-python",
   "name": "python",
   "nbconvert_exporter": "python",
   "pygments_lexer": "ipython3",
   "version": "3.7.13"
  }
 },
 "nbformat": 4,
 "nbformat_minor": 5
}
