{
 "cells": [
  {
   "cell_type": "markdown",
   "id": "622798ab-b22a-47e6-890f-e7ce75512aa3",
   "metadata": {},
   "source": [
    "# Module 2 Challenge - PyBank\n",
    "## Python script for analyzing the financial records of a company "
   ]
  },
  {
   "cell_type": "markdown",
   "id": "e066ea3c-82cd-408f-b82c-c739afb4fdb0",
   "metadata": {},
   "source": [
    "**Step 1: Import the pathlib and csv libraries**"
   ]
  },
  {
   "cell_type": "code",
   "execution_count": 7,
   "id": "4580b0ca-5e38-4b23-aac8-c93cf5857f09",
   "metadata": {},
   "outputs": [],
   "source": [
    "# Initial imports\n",
    "from pathlib import Path\n",
    "import csv"
   ]
  },
  {
   "cell_type": "markdown",
   "id": "55234f49-3ce5-41e8-9c64-5e8129ed6a0b",
   "metadata": {},
   "source": [
    "**Step 2: Set the path for csv file**"
   ]
  },
  {
   "cell_type": "code",
   "execution_count": 8,
   "id": "e1f61287-7277-4321-bd3d-072f7a01c794",
   "metadata": {},
   "outputs": [],
   "source": [
    "# Set the file path\n",
    "csvpath = Path(\"./Resources/budget_data.csv\")"
   ]
  },
  {
   "cell_type": "markdown",
   "id": "325656df-1084-4897-9068-50c71dd1d0ef",
   "metadata": {},
   "source": [
    "**Step 3: Create variables and empty lists**"
   ]
  },
  {
   "cell_type": "code",
   "execution_count": 9,
   "id": "605d5d76-5318-4c49-81c0-59eaa6ede1a2",
   "metadata": {},
   "outputs": [],
   "source": [
    "# Initialize variables\n",
    "total_months = 0\n",
    "total_pnl = 0\n",
    "months = []\n",
    "pnl = []\n",
    "pnl_changes = []\n",
    "total_pnl_change = 0\n",
    "greatest_increase = 0\n",
    "greatest_decrease = 0"
   ]
  },
  {
   "cell_type": "markdown",
   "id": "d71de951-f0ac-411d-964c-695185f043c1",
   "metadata": {},
   "source": [
    "**Step 4: Read the csv file and anaylse the financial data**"
   ]
  },
  {
   "cell_type": "code",
   "execution_count": 10,
   "id": "4a7fc374-ebd5-4a37-8e2f-42ea9d34ea16",
   "metadata": {},
   "outputs": [],
   "source": [
    "# Open the csv file as an object\n",
    "with open(csvpath, \"r\") as csvfile:\n",
    "    \n",
    "    # Pass in the csv file to the csv.reader() function with ',' as the delmiter and return the csvreader object\n",
    "    csvreader = csv.reader(csvfile, delimiter=\",\")\n",
    "    \n",
    "    # Read the header\n",
    "    csv_header = next(csvreader)\n",
    "    #print(csv_header)\n",
    "    \n",
    "    # Read each row of data after the header\n",
    "    for row in csvreader:\n",
    "                \n",
    "        # Calculate the total no of months\n",
    "        total_months += 1\n",
    "        \n",
    "        # Calculate the total profit and loss\n",
    "        total_pnl += int(row[1])\n",
    "        \n",
    "        # add month and profit/loss columns to the empty list\n",
    "        months.append(row[0])\n",
    "        pnl.append(int(row[1]))\n",
    "                \n",
    "    #Calculate monthly changes and add them to the empty list\n",
    "    for x in range(len(pnl)-1):\n",
    "        pnl_changes.append(pnl[x+1]-pnl[x])\n",
    "        \n",
    "# Iterate through every item in pnl_changes list\n",
    "for entry in pnl_changes:\n",
    "    \n",
    "    # Calculate the greatest increase in profit\n",
    "    if entry > greatest_increase:\n",
    "        greatest_increase = entry\n",
    "    \n",
    "    # Calculate the greatest decrease in profit\n",
    "    if entry < greatest_decrease:\n",
    "        greatest_decrease = entry\n",
    "    \n",
    "    # Calculate the total change in profit and loss over the entire period\n",
    "    total_pnl_change += entry\n",
    "    \n",
    "    # Calculate the average change in profit and loss over the entire period\n",
    "    average_change = round(total_pnl_change/(total_months-1), 2)\n",
    "    \n",
    "# Find the profitable and unprofitable months based on greatest increase and decrease indices in pnl_changes list\n",
    "profitable_month = months[pnl_changes.index(greatest_increase)+1]\n",
    "unprofitable_month = months[pnl_changes.index(greatest_decrease)+1]"
   ]
  },
  {
   "cell_type": "markdown",
   "id": "564a21db-4a8e-4963-8730-3191f71472fe",
   "metadata": {},
   "source": [
    "**Step 5: Print the analysis**"
   ]
  },
  {
   "cell_type": "code",
   "execution_count": 11,
   "id": "2e0511c0-4efb-41a4-b2b7-ca06bf74991b",
   "metadata": {},
   "outputs": [
    {
     "name": "stdout",
     "output_type": "stream",
     "text": [
      "Financial Analysis\n",
      "--------------------------------\n",
      "Total Months: 86\n",
      "Total Profit and Loss: $38382578\n",
      "Average  Change: $-2315.12\n",
      "Greatest Increase in Profits: Feb-2012 ($1926159)\n",
      "Greatest Decrease in Profits: Sep-2013 ($-2196167)\n"
     ]
    }
   ],
   "source": [
    "print(\"Financial Analysis\")\n",
    "print(\"--------------------------------\")\n",
    "print(f\"Total Months: {total_months}\")\n",
    "print(f\"Total Profit and Loss: ${total_pnl}\")\n",
    "print(f\"Average  Change: ${average_change}\")\n",
    "print(f\"Greatest Increase in Profits: {profitable_month} (${greatest_increase})\")\n",
    "print(f\"Greatest Decrease in Profits: {unprofitable_month} (${greatest_decrease})\")\n"
   ]
  },
  {
   "cell_type": "markdown",
   "id": "3bfa01f8-6acf-4ef1-9f5e-1bbb9dc475dd",
   "metadata": {},
   "source": [
    "**Step 6: Export a text file with the analysis**"
   ]
  },
  {
   "cell_type": "code",
   "execution_count": 12,
   "id": "35af8afa-0e27-461f-8cb4-1a34e0548e1e",
   "metadata": {},
   "outputs": [],
   "source": [
    "# Set output file name\n",
    "output_path = 'financial_analysis.txt'\n",
    "\n",
    "# Open the output path as a file object \n",
    "with open(output_path, \"w\") as txtfile:\n",
    "    \n",
    "    # Print the results to the output file \n",
    "    txtfile.write(\"Financial Analysis\")\n",
    "    txtfile.write(\"\\n--------------------------------\")\n",
    "    txtfile.write(f\"\\nTotal Months: {total_months}\")\n",
    "    txtfile.write(f\"\\nTotal Profit and Loss: ${total_pnl}\")\n",
    "    txtfile.write(f\"\\nAverage  Change: ${average_change}\")\n",
    "    txtfile.write(f\"\\nGreatest Increase in Profits: {profitable_month} (${greatest_increase})\")\n",
    "    txtfile.write(f\"\\nGreatest Decrease in Profits: {unprofitable_month} (${greatest_decrease})\")"
   ]
  },
  {
   "cell_type": "code",
   "execution_count": null,
   "id": "b5bd7fe3-513d-4594-b4c6-b01f8b3ced13",
   "metadata": {},
   "outputs": [],
   "source": []
  },
  {
   "cell_type": "code",
   "execution_count": null,
   "id": "4e118e7f-ba5d-4c6a-b019-92a642fb555e",
   "metadata": {},
   "outputs": [],
   "source": []
  }
 ],
 "metadata": {
  "kernelspec": {
   "display_name": "Python 3 (ipykernel)",
   "language": "python",
   "name": "python3"
  },
  "language_info": {
   "codemirror_mode": {
    "name": "ipython",
    "version": 3
   },
   "file_extension": ".py",
   "mimetype": "text/x-python",
   "name": "python",
   "nbconvert_exporter": "python",
   "pygments_lexer": "ipython3",
   "version": "3.7.13"
  }
 },
 "nbformat": 4,
 "nbformat_minor": 5
}
